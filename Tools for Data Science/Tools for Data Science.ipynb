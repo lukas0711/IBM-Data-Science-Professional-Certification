{
 "metadata": {
  "language_info": {
   "codemirror_mode": {
    "name": "ipython",
    "version": 3
   },
   "file_extension": ".py",
   "mimetype": "text/x-python",
   "name": "python",
   "nbconvert_exporter": "python",
   "pygments_lexer": "ipython3",
   "version": "3.8.6-final"
  },
  "orig_nbformat": 2,
  "kernelspec": {
   "name": "python3",
   "display_name": "Python 3.8.6 64-bit",
   "metadata": {
    "interpreter": {
     "hash": "b431d9f73fd5bf8590f820fa42e3dd184fc94e67487c7f05089de77dd2235f9a"
    }
   }
  }
 },
 "nbformat": 4,
 "nbformat_minor": 2,
 "cells": [
  {
   "source": [
    "# Introduction to Data Science\n",
    "\n",
    "## Notes and Takeaways\n",
    "\n",
    "### Libraries:\n",
    "Visualization: Matplotlib, Seaborn  \n",
    "Data frameworks: Pandas, NumPy\n",
    "Machine learning: High level: Scikit-learn, Keras (Deep learning), low level: Tensor Flow, PyTorch  \n",
    "Cluster computing: Appache Spark (Python, R, Scala, SQL)\n",
    "### APIs:\n",
    "REST Representational State Transfer: Client <> Ressource\n",
    "### Data Sets\n",
    "MNIST - Set of handwritten numbers and letters for AI training\n",
    "### Machine Learning Models\n",
    "Supervised, Unsupervised, Reinforced Learning; Deep learning (NLP, Image/Audio/Video, Time series)\n",
    "\n",
    "<img src=\"model-serving_microservice.png\" width=\"700\">"
   ],
   "cell_type": "markdown",
   "metadata": {}
  },
  {
   "source": [
    "## Review questions\n",
    "\n",
    "### Module 1 - Language of Data Science\n",
    "1. All of the above\n",
    "2. MariaDB, MySQL, PostgreSQL, Oracle\n",
    "3. Free Software can always be run, studied, modified and redistributed with or without changes.\n",
    "Most of Free Software licenses also qualify for Open Source.\n",
    "Open Source Software can be modified without sharing the modified source code depending on the Open Source license.\n",
    "4. True\n",
    "5. All of the above\n",
    "6. ?\n",
    "\n",
    "### Module 2 - Data Science Tools\n",
    "1. All of the above\n",
    "2. MySQL\n",
    "PostgreSQL\n",
    "3. Apache Kafka\n",
    "Apache Nifi\n",
    "Apache AirFlow\n",
    "4. JuypterLab can run R and Python code in addition to other programming languages.\n",
    "5. RStudio is the primary choice for development in the R programming language.\n",
    "6. Watson Studio together with Watson OpenScale covers the complete development life cycle for all data science, machine learning and AI tasks.  \n",
    "Watson Studio together with Watson OpenScale is available as a Cloud offering as well as a package running on top of Kubernetes/RedHat OpenShift in a local data center called IBM Cloud Pak for Data.\n",
    "\n",
    "### Module 3 - Libraries for Data Science\n",
    "1. Pandas\n",
    "2. Application Programming Interface\n",
    "3. False\n",
    "4. Supervised teaching\n",
    "5. Tommy\n",
    "6. REST API\n",
    "\n",
    "### Module 4 - GitHub\n",
    "1. Git is a system for version control of source code.  \n",
    "Git is very useful for data science as well since data science often involves a lot of source code to be written and managed.\n",
    "2. The local repository is only accessible by myself.  \n",
    "The staging is only accessible by myself.  \n",
    "The remote repository is accessible by all contributors.\n",
    "3. Fork the repository, update the fork and create a pull request.\n",
    "### Module 5 - Jupyter Notebooks and JupyterLab\n",
    "### Module 6 - RStudio IDE\n",
    "### Module 7 - Watson Studio\n",
    "\n",
    "### Final Exam\n"
   ],
   "cell_type": "markdown",
   "metadata": {}
  }
 ]
}