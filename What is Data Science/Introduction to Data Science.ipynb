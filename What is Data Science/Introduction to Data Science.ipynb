{
 "metadata": {
  "language_info": {
   "codemirror_mode": {
    "name": "ipython",
    "version": 3
   },
   "file_extension": ".py",
   "mimetype": "text/x-python",
   "name": "python",
   "nbconvert_exporter": "python",
   "pygments_lexer": "ipython3",
   "version": "3.8.6-final"
  },
  "orig_nbformat": 2,
  "kernelspec": {
   "name": "python3",
   "display_name": "Python 3.8.6 64-bit",
   "metadata": {
    "interpreter": {
     "hash": "b431d9f73fd5bf8590f820fa42e3dd184fc94e67487c7f05089de77dd2235f9a"
    }
   }
  }
 },
 "nbformat": 4,
 "nbformat_minor": 2,
 "cells": [
  {
   "source": [
    "# Introduction to Data Science\n",
    "\n",
    "## Review questions\n",
    "\n",
    "### Module 1 - Defining Data Science\n",
    "1. 140 000 – 190 000 people\n",
    "2. Crowdsourcing\n",
    "3. $ 122,000\n",
    "\n",
    "### Module 2 - What do data science people do?\n",
    "1. Quantifying the magnitude of relationships\n",
    "2. What is the impact of lot size on housing price?\n",
    "3. Sir Frances Galton\n",
    "\n",
    "### Module 3 - Data Science in Business\n",
    "1. To communicate findings to the concerned\n",
    "2. Using data and analytics to generate the likely economic scenarios\n",
    "3. Use the insights to build the narrative to communicate the findings correct\n",
    "\n",
    "### Module 4 - Use Cases for Data Science\n",
    "1. Setting up the problem for the reader\n",
    "2. The empirical findings\n",
    "3. Including a list of references\n",
    "\n",
    "### Module 5 - Data Science People\n",
    "1. Data science is what data scientists do\n",
    "2. His definition is inclusive of individuals from various academic backgrounds and training\n",
    "3. Thinkers, ask good questions, O.K. dealing with unstructured situations\n",
    "\n",
    "### Final Exam\n",
    "1. The quality of the data\n",
    "2. Establish goals, select data, pre-process data, transform data\n",
    "3. Determine the impact of missing data on the results\n",
    "4. Principal Component Analysis\n",
    "5. Data safety and privacy\n",
    "6. Data Visualization\n",
    "7. An iterative process\n",
    "8. The costs\n",
    "9. Human error\n",
    "10. In-sample forecast"
   ],
   "cell_type": "markdown",
   "metadata": {}
  },
  {
   "source": [
    "## Notes and Takeaways\n",
    "\n",
    "### Key areas for recruiting\n",
    "- Storytelling skills\n",
    "- Realize structure in unstructured data\n",
    "- Presenting/visualizing\n",
    "- Domain specific knowledge\n",
    "\n",
    "### Technical areas of automated driving and mesurement technology\n",
    "- Apache Spark for big data\n",
    "- Mavhine learning (SparkML, Tensorflow, ...)\n",
    "- Python regression and statistics\n",
    "- Database and SQL\n",
    "\n",
    "### Final Exam\n",
    "Establishing Data Mining Goals: identify key questitions, level of accuracy - cost benefit trade-odds are important\n",
    "\n",
    "Selecting Data: Identify the right kind of data at reasonable cost\n",
    "\n",
    "Preprocessing Data: Identify the irrelevant data, expurge, check integrity, develop a method to deal with missing data\n",
    "\n",
    "Transforming Data: Transform into an appropriate format and reduce the number of attributes needed to explain the phenomena\n",
    "\n",
    "Storing data: Store in a format for data mining. Key concerns are safety and privacy\n",
    "\n",
    "Mining Data: data analysis methods, including parametric and non-parametric methods, and machine learning algorithms. Good starting point is visualisation\n",
    "\n",
    "Evaluating Mining Results: Formal evaluation, might be including testing of predictive capabilities of the models on observed data (in-sample forecast) and sharing with stakeholders\n"
   ],
   "cell_type": "markdown",
   "metadata": {}
  }
 ]
}